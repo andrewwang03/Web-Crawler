{
 "cells": [
  {
   "cell_type": "markdown",
   "id": "ce10857e",
   "metadata": {},
   "source": [
    "<h1> 台灣彩券 </h1>\n",
    "\n",
    "### 查詢台灣彩券各類彩券最新開獎號碼\n",
    "\n",
    "### BINGO BINGO"
   ]
  },
  {
   "cell_type": "code",
   "execution_count": 1,
   "id": "3fb46cc6",
   "metadata": {},
   "outputs": [
    {
     "name": "stdout",
     "output_type": "stream",
     "text": [
      "BINGO BINGO期數 : 111/7/1 第111036910期 \n",
      "開出號碼 : 15  19  29  35  38  40  41  46  50  54  55  59  62  64  65  71  73  75  78  79  超級獎號: 40\n",
      "猜單或雙: 小單\n"
     ]
    }
   ],
   "source": [
    "import requests\n",
    "from bs4 import BeautifulSoup\n",
    "\n",
    "url=\"https://www.taiwanlottery.com.tw/\"\n",
    "r=requests.get(url)\n",
    "sp=BeautifulSoup(r.text,'lxml')\n",
    "# 找到BINGO BINGO區塊\n",
    "datas=sp.find('div',class_=\"contents_box01\")\n",
    "#print(datas)\n",
    "# 開獎期數\n",
    "title=datas.find('span',class_='font_black15').text\n",
    "print('BINGO BINGO期數 :',title)\n",
    "# 開獎號碼\n",
    "nums=datas.find_all('div',class_='ball_tx ball_yellow')\n",
    "print(\"開出號碼 :\",end=' ')\n",
    "for i in range(0,20):\n",
    "    print(nums[i].text, end=' ')\n",
    "# 超級獎號\n",
    "num=datas.find('div',class_=\"ball_red\").text\n",
    "print(\"超級獎號:\",num)\n",
    "# 猜單或雙\n",
    "num1=datas.find('div',class_=\"ball_blue_BB2\").text\n",
    "print(\"猜單或雙:\",num1)"
   ]
  },
  {
   "cell_type": "markdown",
   "id": "e8dc6f08",
   "metadata": {},
   "source": [
    "### 雙贏彩"
   ]
  },
  {
   "cell_type": "code",
   "execution_count": 2,
   "id": "b67b5bda",
   "metadata": {},
   "outputs": [
    {
     "name": "stdout",
     "output_type": "stream",
     "text": [
      "雙贏彩期數 : 111/6/30 第111000155期 \n",
      "開出順序 : 10  03  08  12  14  11  24  05  23  20  01  18  大小順序:  01  03  05  08  10  11  12  14  18  20  23  24  "
     ]
    }
   ],
   "source": [
    "import requests\n",
    "from bs4 import BeautifulSoup\n",
    "\n",
    "url=\"https://www.taiwanlottery.com.tw/\"\n",
    "r=requests.get(url)\n",
    "sp=BeautifulSoup(r.text,'lxml')\n",
    "# 找到雙贏彩區塊\n",
    "datas=sp.find('div',class_=\"contents_box06\")\n",
    "#print(datas)\n",
    "# 開獎期數\n",
    "title=datas.find('span',class_='font_black15').text\n",
    "print('雙贏彩期數 :',title)\n",
    "# 開獎號碼\n",
    "nums=datas.find_all('div',class_='ball_tx ball_blue')\n",
    "# 開出順序\n",
    "print(\"開出順序 :\",end=' ')\n",
    "for i in range(0,12):\n",
    "    print(nums[i].text, end=' ')\n",
    "# 大小順序\n",
    "print(\"大小順序: \", end=' ')\n",
    "for i in range(12,24):\n",
    "    print(nums[i].text, end=' ')"
   ]
  },
  {
   "cell_type": "markdown",
   "id": "aabab817",
   "metadata": {},
   "source": [
    "### 威力彩"
   ]
  },
  {
   "cell_type": "code",
   "execution_count": 3,
   "id": "ae00cece",
   "metadata": {},
   "outputs": [
    {
     "name": "stdout",
     "output_type": "stream",
     "text": [
      "威力彩期數 : 111/6/30 第111000052期 \n",
      "開出順序 : 07  01  31  12  17  19  大小順序:  01  07  12  17  19  31  第二區: 07 \n"
     ]
    }
   ],
   "source": [
    "import requests\n",
    "from bs4 import BeautifulSoup\n",
    "\n",
    "url=\"https://www.taiwanlottery.com.tw/\"\n",
    "r=requests.get(url)\n",
    "sp=BeautifulSoup(r.text,'lxml')\n",
    "# 找到威力彩區塊\n",
    "datas=sp.find('div',class_=\"contents_box02\")\n",
    "#print(datas)\n",
    "# 開獎期數\n",
    "title=datas.find('span',class_='font_black15').text\n",
    "print('威力彩期數 :',title)\n",
    "# 開獎號碼\n",
    "nums=datas.find_all('div',class_='ball_tx ball_green')\n",
    "# 開出順序\n",
    "print(\"開出順序 :\",end=' ')\n",
    "for i in range(0,6):\n",
    "    print(nums[i].text, end=' ')\n",
    "# 大小順序\n",
    "print(\"大小順序: \", end=' ')\n",
    "for i in range(6,12):\n",
    "    print(nums[i].text, end=' ')\n",
    "# 第二區\n",
    "num=datas.find('div',class_=\"ball_red\").text\n",
    "print(\"第二區:\",num)"
   ]
  },
  {
   "cell_type": "markdown",
   "id": "b5bbd1cc",
   "metadata": {},
   "source": [
    "### 38樂合彩"
   ]
  },
  {
   "cell_type": "code",
   "execution_count": 4,
   "id": "f84099dc",
   "metadata": {},
   "outputs": [
    {
     "name": "stdout",
     "output_type": "stream",
     "text": [
      "38樂合彩期數 : 111/6/30 第111000052期 \n",
      "開出順序 : 07  01  31  12  17  19  大小順序:  01  07  12  17  19  31  "
     ]
    }
   ],
   "source": [
    "import requests\n",
    "from bs4 import BeautifulSoup\n",
    "\n",
    "url=\"https://www.taiwanlottery.com.tw/\"\n",
    "r=requests.get(url)\n",
    "sp=BeautifulSoup(r.text,'lxml')\n",
    "# 找到38樂合彩區塊\n",
    "datas=sp.find_all('div',class_=\"contents_box02\")[1]\n",
    "#print(datas)\n",
    "# 開獎期數\n",
    "title=datas.find('span',class_='font_black15').text\n",
    "print('38樂合彩期數 :',title)\n",
    "# 開獎號碼\n",
    "nums=datas.find_all('div',class_='ball_tx ball_green')\n",
    "# 開出順序\n",
    "print(\"開出順序 :\",end=' ')\n",
    "for i in range(0,6):\n",
    "    print(nums[i].text, end=' ')\n",
    "# 大小順序\n",
    "print(\"大小順序: \", end=' ')\n",
    "for i in range(6,12):\n",
    "    print(nums[i].text, end=' ')"
   ]
  },
  {
   "cell_type": "markdown",
   "id": "aad0adfb",
   "metadata": {},
   "source": [
    "### 大樂透"
   ]
  },
  {
   "cell_type": "code",
   "execution_count": 5,
   "id": "1c3c6f9d",
   "metadata": {},
   "outputs": [
    {
     "name": "stdout",
     "output_type": "stream",
     "text": [
      "大樂透期數 : 111/6/28 第111000061期 \n",
      "開出順序 : 21  25  41  45  42  24  大小順序:  21  24  25  41  42  45  特別號: 34 \n"
     ]
    }
   ],
   "source": [
    "import requests\n",
    "from bs4 import BeautifulSoup\n",
    "\n",
    "url=\"https://www.taiwanlottery.com.tw/\"\n",
    "r=requests.get(url)\n",
    "sp=BeautifulSoup(r.text,'lxml')\n",
    "# 找到大樂透區塊\n",
    "datas=sp.find_all('div',class_=\"contents_box02\")[2]\n",
    "#print(datas)\n",
    "# 開獎期數\n",
    "title=datas.find('span',class_='font_black15').text\n",
    "print('大樂透期數 :',title)\n",
    "# 開獎號碼\n",
    "nums=datas.find_all('div',class_='ball_tx ball_yellow')\n",
    "# 開出順序\n",
    "print(\"開出順序 :\",end=' ')\n",
    "for i in range(0,6):\n",
    "    print(nums[i].text, end=' ')\n",
    "# 大小順序\n",
    "print(\"大小順序: \", end=' ')\n",
    "for i in range(6,12):\n",
    "    print(nums[i].text, end=' ')\n",
    "# 特別號\n",
    "num=datas.find('div',class_=\"ball_red\").text\n",
    "print(\"特別號:\",num)"
   ]
  },
  {
   "cell_type": "markdown",
   "id": "07c6d924",
   "metadata": {},
   "source": [
    "### 49樂合彩"
   ]
  },
  {
   "cell_type": "code",
   "execution_count": 6,
   "id": "b937305c",
   "metadata": {},
   "outputs": [
    {
     "name": "stdout",
     "output_type": "stream",
     "text": [
      "49樂合彩期數 : 111/6/28 第111000061期 \n",
      "開出順序 : 21  25  41  45  42  24  大小順序:  21  24  25  41  42  45  "
     ]
    }
   ],
   "source": [
    "import requests\n",
    "from bs4 import BeautifulSoup\n",
    "\n",
    "url=\"https://www.taiwanlottery.com.tw/\"\n",
    "r=requests.get(url)\n",
    "sp=BeautifulSoup(r.text,'lxml')\n",
    "# 找到49樂合彩區塊\n",
    "datas=sp.find_all('div',class_=\"contents_box02\")[3]\n",
    "#print(datas)\n",
    "# 開獎期數\n",
    "title=datas.find('span',class_='font_black15').text\n",
    "print('49樂合彩期數 :',title)\n",
    "# 開獎號碼\n",
    "nums=datas.find_all('div',class_='ball_tx ball_yellow')\n",
    "# 開出順序\n",
    "print(\"開出順序 :\",end=' ')\n",
    "for i in range(0,6):\n",
    "    print(nums[i].text, end=' ')\n",
    "# 大小順序\n",
    "print(\"大小順序: \", end=' ')\n",
    "for i in range(6,12):\n",
    "    print(nums[i].text, end=' ')"
   ]
  }
 ],
 "metadata": {
  "kernelspec": {
   "display_name": "Python 3 (ipykernel)",
   "language": "python",
   "name": "python3"
  },
  "language_info": {
   "codemirror_mode": {
    "name": "ipython",
    "version": 3
   },
   "file_extension": ".py",
   "mimetype": "text/x-python",
   "name": "python",
   "nbconvert_exporter": "python",
   "pygments_lexer": "ipython3",
   "version": "3.7.11"
  }
 },
 "nbformat": 4,
 "nbformat_minor": 5
}
